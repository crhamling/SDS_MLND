{
  "cells": [
    {
      "metadata": {
        "_uuid": "8f2839f25d086af736a60e9eeb907d3b93b6e0e5",
        "_cell_guid": "b1076dfc-b9ad-4769-8c92-a6c4dae69d19",
        "trusted": true
      },
      "cell_type": "code",
      "source": "import pandas as pd\nimport numpy as np\nimport matplotlib.pyplot as plt\nfrom sklearn.preprocessing import MinMaxScaler",
      "execution_count": null,
      "outputs": []
    },
    {
      "metadata": {
        "_cell_guid": "79c7e3d0-c299-4dcb-8224-4455121ee9b0",
        "_uuid": "d629ff2d2480ee46fbb7e2d37f6b5fab8052498a",
        "trusted": true
      },
      "cell_type": "code",
      "source": "bac = pd.read_feather('../input/bac_market_data.feather')\nbac = bac.bfill()",
      "execution_count": null,
      "outputs": []
    },
    {
      "metadata": {
        "trusted": true,
        "_uuid": "f442820f5a80a28b2873621a99039983f3bc2f97"
      },
      "cell_type": "code",
      "source": "scaler = MinMaxScaler(feature_range=(0,1))\nbac[['volume', 'close', 'open',\n     'returnsClosePrevRaw1', 'returnsOpenPrevRaw1',\n     'returnsClosePrevMktres1', 'returnsOpenPrevMktres1',\n     'returnsClosePrevRaw10', 'returnsOpenPrevRaw10',\n     'returnsClosePrevMktres10', 'returnsOpenPrevMktres10',\n    'returnsOpenNextMktres10']] = scaler.fit_transform(bac[['volume', 'close', 'open',\n                                                            'returnsClosePrevRaw1', 'returnsOpenPrevRaw1',\n                                                            'returnsClosePrevMktres1', 'returnsOpenPrevMktres1',\n                                                            'returnsClosePrevRaw10', 'returnsOpenPrevRaw10',\n                                                            'returnsClosePrevMktres10', 'returnsOpenPrevMktres10',\n                                                            'returnsOpenNextMktres10']])",
      "execution_count": null,
      "outputs": []
    },
    {
      "metadata": {
        "trusted": true,
        "_uuid": "ea7a50e9cd725d0c68e9d4e0c722a2b81396232b"
      },
      "cell_type": "code",
      "source": "trn = bac[bac['time'].dt.year<2016]\ntst = bac[bac['time'].dt.year==2016]",
      "execution_count": null,
      "outputs": []
    },
    {
      "metadata": {
        "trusted": true,
        "_uuid": "1e6e603724d4d4a2645d56016eefaffbd3aef26e"
      },
      "cell_type": "code",
      "source": "trn_X = trn[['volume', 'close', 'open',\n       'returnsClosePrevRaw1', 'returnsOpenPrevRaw1',\n       'returnsClosePrevMktres1', 'returnsOpenPrevMktres1',\n       'returnsClosePrevRaw10', 'returnsOpenPrevRaw10',\n       'returnsClosePrevMktres10', 'returnsOpenPrevMktres10',\n       'returnsOpenNextMktres10']]\ntrn_y = trn['y']",
      "execution_count": null,
      "outputs": []
    },
    {
      "metadata": {
        "trusted": true,
        "_uuid": "1a2b2c21ec846f1c079c9bc4e0deaf15a20c8fd9"
      },
      "cell_type": "code",
      "source": "tst_X = tst[['volume', 'close', 'open',\n       'returnsClosePrevRaw1', 'returnsOpenPrevRaw1',\n       'returnsClosePrevMktres1', 'returnsOpenPrevMktres1',\n       'returnsClosePrevRaw10', 'returnsOpenPrevRaw10',\n       'returnsClosePrevMktres10', 'returnsOpenPrevMktres10',\n       'returnsOpenNextMktres10']]\ntst_y = tst['y']",
      "execution_count": null,
      "outputs": []
    },
    {
      "metadata": {
        "trusted": true,
        "_uuid": "b291e610ca1318a66856765bbe5a14af1647333c"
      },
      "cell_type": "code",
      "source": "from keras.layers import Input, Dense, Activation, Dropout\nfrom keras.layers.recurrent import LSTM\nfrom keras.models import Model\nimport time #helper libraries",
      "execution_count": null,
      "outputs": []
    },
    {
      "metadata": {
        "trusted": true,
        "_uuid": "6bcadc2f081ce59b17fbe8180cca03fe3f2d31f2"
      },
      "cell_type": "code",
      "source": "def df_to_3d(df):\n    vals = df.values\n    return vals.reshape(vals.shape[0], 1, vals.shape[1])",
      "execution_count": null,
      "outputs": []
    },
    {
      "metadata": {
        "trusted": true,
        "_uuid": "ec5f8f8e4313de97dac9a2be1408105657096ee8"
      },
      "cell_type": "code",
      "source": "inputs = Input(shape=(1, trn_X.shape[1],))\n\nx = LSTM(50, activation='relu', return_sequences=True)(inputs)\nx = Dropout(0.2)(x)\nx = LSTM(100, activation='relu')(x)\nx = Dropout(0.2)(x)\n\npredictions = Dense(1, activation='tanh')(x)\n\nstart = time.time()\nmodel = Model(inputs=inputs, outputs=predictions)\nmodel.compile(loss='mse', optimizer='rmsprop')\nprint ('compilation time : ', time.time() - start)",
      "execution_count": null,
      "outputs": []
    },
    {
      "metadata": {
        "trusted": true,
        "_uuid": "e2ae9b87955084a639205fac92fb4b05f3140811"
      },
      "cell_type": "code",
      "source": "model.fit(\n    df_to_3d(trn_X), trn_y,\n    batch_size=64, epochs=12,\n    validation_data=(df_to_3d(tst_X), tst_y))",
      "execution_count": null,
      "outputs": []
    },
    {
      "metadata": {
        "trusted": true,
        "_uuid": "359018aeac7949a6a1af06d762cb7594d7f5368a"
      },
      "cell_type": "code",
      "source": "preds = model.predict(\n    df_to_3d(pd.concat([trn_X, tst_X]))\n)",
      "execution_count": null,
      "outputs": []
    },
    {
      "metadata": {
        "trusted": true,
        "_uuid": "807dd18a4a50c242b54989046a442598df7539e8"
      },
      "cell_type": "code",
      "source": "eval_model = pd.DataFrame({'date': bac['time'].dt.date,\n                           'X': preds.flatten(),\n                           'y': bac['y']})",
      "execution_count": null,
      "outputs": []
    },
    {
      "metadata": {
        "trusted": true,
        "_uuid": "f1f7b1f86aa3a4b0aa8222bf06d2d31223d01f50"
      },
      "cell_type": "code",
      "source": "def score_model(X, y):\n    adj_X = np.array(X) + 1\n    adj_y = np.array(y) + 1\n    relative_per_diffs = []\n    for val_X, val_y in zip(adj_X, adj_y):\n        # calculate relative percent difference\n        relative_per_diffs.append( (val_X - val_y) / (np.abs(val_X) + np.abs(val_y)) )\n        #print('{:>8.3f} <-> {:>8.3f} = {:>8.3f}'.format(val_X, val_y, relative_per_diffs[-1]))\n    # adjust relative percent differnces scale from [-2, 2] to [0, 1]\n    # higher scores closer to 1 being more accurate\n    relative_per_diffs = 1 - ((np.array(relative_per_diffs) + 1) / 2)\n    return list(relative_per_diffs)",
      "execution_count": null,
      "outputs": []
    },
    {
      "metadata": {
        "trusted": true,
        "_uuid": "3bc393f7c8759b1403cd16d976878cc6037c0d90"
      },
      "cell_type": "code",
      "source": "eval_model['scores'] = score_model(eval_model['X'].values, eval_model['y'].values)",
      "execution_count": null,
      "outputs": []
    },
    {
      "metadata": {
        "trusted": true,
        "_uuid": "a5ff805e6e720e49ee10b22650431eaa0e7246b3"
      },
      "cell_type": "code",
      "source": "def plot_vs_time(data_frame, column, calculation='mean', span=10):\n    if calculation == 'mean':\n        group_temp = data_frame.groupby('date')[column].mean().reset_index()\n    if calculation == 'count':\n        group_temp = data_frame.groupby('date')[column].count().reset_index()\n    if calculation == 'nunique':\n        group_temp = data_frame.groupby('date')[column].nunique().reset_index()\n    group_temp = group_temp.ewm(span=span).mean()\n    fig = plt.figure(figsize=(10,3))\n    plt.plot(group_temp['date'], group_temp[column])\n    plt.xlabel('Time')\n    plt.ylabel(column)\n    plt.ylim((0,1))\n    plt.title('%s versus time' %column)",
      "execution_count": null,
      "outputs": []
    },
    {
      "metadata": {
        "trusted": true,
        "_uuid": "61dcf396c0691990edc1324d685c8205550d33e3"
      },
      "cell_type": "code",
      "source": "plot_vs_time(eval_model, 'scores')",
      "execution_count": null,
      "outputs": []
    },
    {
      "metadata": {
        "trusted": true,
        "_uuid": "06e002bea4088e8dcbb7bc2db24c48c4bae005ec"
      },
      "cell_type": "code",
      "source": "print('Eval model score is {:.5f}'.format(eval_model['scores'].mean()))",
      "execution_count": null,
      "outputs": []
    }
  ],
  "metadata": {
    "kernelspec": {
      "display_name": "Python 3",
      "language": "python",
      "name": "python3"
    },
    "language_info": {
      "name": "python",
      "version": "3.6.6",
      "mimetype": "text/x-python",
      "codemirror_mode": {
        "name": "ipython",
        "version": 3
      },
      "pygments_lexer": "ipython3",
      "nbconvert_exporter": "python",
      "file_extension": ".py"
    }
  },
  "nbformat": 4,
  "nbformat_minor": 1
}