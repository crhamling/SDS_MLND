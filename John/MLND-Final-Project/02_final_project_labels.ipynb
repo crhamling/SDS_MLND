{
  "cells": [
    {
      "metadata": {
        "trusted": true,
        "_uuid": "07f7b69da9694b37fe5241b10814dd0264f827ae"
      },
      "cell_type": "code",
      "source": "import pandas as pd\nimport numpy as np\nfrom sklearn import preprocessing",
      "execution_count": null,
      "outputs": []
    },
    {
      "metadata": {
        "_cell_guid": "79c7e3d0-c299-4dcb-8224-4455121ee9b0",
        "_uuid": "d629ff2d2480ee46fbb7e2d37f6b5fab8052498a",
        "trusted": true
      },
      "cell_type": "code",
      "source": "market_train_df = pd.read_feather('../input/market_train_df.feather')",
      "execution_count": null,
      "outputs": []
    },
    {
      "metadata": {
        "trusted": true,
        "_uuid": "3074a03ae93c787dd5050608ab491e927c4f7a8d"
      },
      "cell_type": "code",
      "source": "bac = market_train_df[market_train_df['assetCode']=='BAC.N'].set_index('time').resample('1D').ffill().reset_index()",
      "execution_count": null,
      "outputs": []
    },
    {
      "metadata": {
        "trusted": true,
        "_uuid": "60ab5493097c3952f51aaa3118cc8c9b358475ac"
      },
      "cell_type": "code",
      "source": "market_returns = market_train_df['returnsOpenPrevRaw10'].groupby(market_train_df['time'].dt.normalize()).mean().resample('1D').ffill().to_frame().rename(columns={'returnsOpenPrevRaw10': 'marketReturnsOpenPrevRaw10'})",
      "execution_count": null,
      "outputs": []
    },
    {
      "metadata": {
        "trusted": true,
        "_uuid": "0848b2c80e3fd5d8baaab9a60036abf0450f727d"
      },
      "cell_type": "code",
      "source": "data = pd.merge(bac, market_returns, how='left', on='time').dropna(subset=['assetCode', 'returnsOpenPrevRaw10', 'marketReturnsOpenPrevRaw10'])\nfor c in (set(market_train_df.columns) & set(data.columns)):\n    data[c] = data[c].astype(market_train_df[c].dtype)",
      "execution_count": null,
      "outputs": []
    },
    {
      "metadata": {
        "trusted": true,
        "scrolled": true,
        "_uuid": "671a7da25cd9a82e77f052e2697eaedc3491aeeb"
      },
      "cell_type": "code",
      "source": "data['diffReturnOpenPrevRaw10'] = data['returnsOpenPrevRaw10'] - data['marketReturnsOpenPrevRaw10']",
      "execution_count": null,
      "outputs": []
    },
    {
      "metadata": {
        "trusted": true,
        "_uuid": "ef20c8146094d93d09e812d163f512317097ddb6"
      },
      "cell_type": "code",
      "source": "# negative difference from market\nx = data[data['diffReturnOpenPrevRaw10'] < 0]['diffReturnOpenPrevRaw10'].values.reshape(-1, 1)\nmin_max_scaler = preprocessing.MinMaxScaler()\nx_scaled = min_max_scaler.fit_transform(x)\ndata.loc[data['diffReturnOpenPrevRaw10'] < 0, 'y'] = -1*x_scaled\n\n# positive difference from market\nx = data[data['diffReturnOpenPrevRaw10'] >= 0]['diffReturnOpenPrevRaw10'].values.reshape(-1, 1)\nmin_max_scaler = preprocessing.MinMaxScaler()\nx_scaled = min_max_scaler.fit_transform(x)\ndata.loc[data['diffReturnOpenPrevRaw10'] >= 0, 'y'] = x_scaled\n\ndata['y'] = data['y'].astype(np.float32)",
      "execution_count": null,
      "outputs": []
    },
    {
      "metadata": {
        "trusted": true,
        "_uuid": "09040f4188da5cc0496e940e0f59d78bd1bc9eaa"
      },
      "cell_type": "code",
      "source": "data['y'].describe()",
      "execution_count": null,
      "outputs": []
    },
    {
      "metadata": {
        "trusted": true,
        "_uuid": "f8bf4b282dbe69d16793a83e03a43c51839f80df"
      },
      "cell_type": "code",
      "source": "data = data.drop(['marketReturnsOpenPrevRaw10', 'diffReturnOpenPrevRaw10'], axis=1).reset_index(drop=True)",
      "execution_count": null,
      "outputs": []
    },
    {
      "metadata": {
        "trusted": true,
        "_uuid": "c9d2cd268007e57b68bff39a67731e521a6506e8"
      },
      "cell_type": "code",
      "source": "data.to_feather('bac_market_data.feather')",
      "execution_count": null,
      "outputs": []
    }
  ],
  "metadata": {
    "kernelspec": {
      "display_name": "Python 3",
      "language": "python",
      "name": "python3"
    },
    "language_info": {
      "name": "python",
      "version": "3.6.6",
      "mimetype": "text/x-python",
      "codemirror_mode": {
        "name": "ipython",
        "version": 3
      },
      "pygments_lexer": "ipython3",
      "nbconvert_exporter": "python",
      "file_extension": ".py"
    }
  },
  "nbformat": 4,
  "nbformat_minor": 1
}