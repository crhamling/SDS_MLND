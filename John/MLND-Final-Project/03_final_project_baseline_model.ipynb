{
  "cells": [
    {
      "metadata": {
        "_cell_guid": "79c7e3d0-c299-4dcb-8224-4455121ee9b0",
        "_uuid": "d629ff2d2480ee46fbb7e2d37f6b5fab8052498a",
        "trusted": true
      },
      "cell_type": "code",
      "source": "import pandas as pd\nimport numpy as np\nimport matplotlib.pyplot as plt",
      "execution_count": null,
      "outputs": []
    },
    {
      "metadata": {
        "trusted": true,
        "_uuid": "f4ac9b5d3af7a01c9f4311d9237d2667d499907c"
      },
      "cell_type": "code",
      "source": "bac = pd.read_feather('../input/bac_market_data.feather')",
      "execution_count": null,
      "outputs": []
    },
    {
      "metadata": {
        "trusted": true,
        "_uuid": "11a88964b9d2371f06c07f71f90eaa2f95a86438"
      },
      "cell_type": "code",
      "source": "baseline_model = pd.DataFrame({'date': bac['time'].dt.date,\n                               'X': 0,\n                               'y': bac['y']})",
      "execution_count": null,
      "outputs": []
    },
    {
      "metadata": {
        "trusted": true,
        "_uuid": "b7cf8dff73a791ec8400a4aadde756b27e5355f0"
      },
      "cell_type": "code",
      "source": "def score_model(X, y):\n    adj_X = np.array(X) + 1\n    adj_y = np.array(y) + 1\n    relative_per_diffs = []\n    for val_X, val_y in zip(adj_X, adj_y):\n        # calculate relative percent difference\n        relative_per_diffs.append( (val_X - val_y) / (np.abs(val_X) + np.abs(val_y)) )\n        #print('{:>8.3f} <-> {:>8.3f} = {:>8.3f}'.format(val_X, val_y, relative_per_diffs[-1]))\n    # adjust relative percent differnces scale from [-2, 2] to [0, 1]\n    # higher scores closer to 1 being more accurate\n    relative_per_diffs = 1 - ((np.array(relative_per_diffs) + 1) / 2)\n    return list(relative_per_diffs)",
      "execution_count": null,
      "outputs": []
    },
    {
      "metadata": {
        "trusted": true,
        "_uuid": "7385f4c6cff1fa54188565c98d83baff0346cb8c"
      },
      "cell_type": "code",
      "source": "baseline_model['scores'] = score_model(baseline_model['X'].values, baseline_model['y'].values)",
      "execution_count": null,
      "outputs": []
    },
    {
      "metadata": {
        "trusted": true,
        "_uuid": "ad565be56de8a00b129b51a63725c30c46521fcb"
      },
      "cell_type": "code",
      "source": "def plot_vs_time(data_frame, column, calculation='mean', span=10):\n    if calculation == 'mean':\n        group_temp = data_frame.groupby('date')[column].mean().reset_index()\n    if calculation == 'count':\n        group_temp = data_frame.groupby('date')[column].count().reset_index()\n    if calculation == 'nunique':\n        group_temp = data_frame.groupby('date')[column].nunique().reset_index()\n    group_temp = group_temp.ewm(span=span).mean()\n    fig = plt.figure(figsize=(10,3))\n    plt.plot(group_temp['date'], group_temp[column])\n    plt.xlabel('Time')\n    plt.ylabel(column)\n    plt.ylim((0,1))\n    plt.title('%s versus time' %column)",
      "execution_count": null,
      "outputs": []
    },
    {
      "metadata": {
        "trusted": true,
        "_uuid": "f61ea1b2a156b9cf0210a70ab3b9df9796c4e0d9"
      },
      "cell_type": "code",
      "source": "plot_vs_time(baseline_model, 'scores')",
      "execution_count": null,
      "outputs": []
    },
    {
      "metadata": {
        "trusted": true,
        "_uuid": "bdd9a0116cb994936af0d0c5b2d1cf4552b9b6f7"
      },
      "cell_type": "code",
      "source": "print('Baseline model score is {:.5f}'.format(baseline_model['scores'].mean()))",
      "execution_count": null,
      "outputs": []
    },
    {
      "metadata": {
        "trusted": true,
        "_uuid": "d148c800beb1c6b26b629f1fc42a8dbec62bd626"
      },
      "cell_type": "code",
      "source": "",
      "execution_count": null,
      "outputs": []
    }
  ],
  "metadata": {
    "kernelspec": {
      "display_name": "Python 3",
      "language": "python",
      "name": "python3"
    },
    "language_info": {
      "name": "python",
      "version": "3.6.6",
      "mimetype": "text/x-python",
      "codemirror_mode": {
        "name": "ipython",
        "version": 3
      },
      "pygments_lexer": "ipython3",
      "nbconvert_exporter": "python",
      "file_extension": ".py"
    }
  },
  "nbformat": 4,
  "nbformat_minor": 1
}