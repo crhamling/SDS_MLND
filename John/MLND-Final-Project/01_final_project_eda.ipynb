{
  "cells": [
    {
      "metadata": {
        "_uuid": "8f2839f25d086af736a60e9eeb907d3b93b6e0e5",
        "_cell_guid": "b1076dfc-b9ad-4769-8c92-a6c4dae69d19",
        "trusted": true
      },
      "cell_type": "markdown",
      "source": "# Complete exploratory data analysis"
    },
    {
      "metadata": {
        "trusted": true,
        "_uuid": "95a5bfd638c9824676f5f8cc480e7f12c07555a6",
        "_kg_hide-input": true
      },
      "cell_type": "code",
      "source": "import numpy as np\nimport pandas as pd\nimport matplotlib\nimport matplotlib.pyplot as plt\nimport seaborn as sns\nimport datetime\nimport re",
      "execution_count": null,
      "outputs": []
    },
    {
      "metadata": {
        "trusted": true,
        "_uuid": "43bfe6d1b50990d3a89d4b99f40f599b052d4940"
      },
      "cell_type": "code",
      "source": "matplotlib.rcParams['figure.figsize'] = (10, 5)\nmatplotlib.rcParams['font.size'] = 12",
      "execution_count": null,
      "outputs": []
    },
    {
      "metadata": {
        "_uuid": "884991f41f1b46c1484fb5b0e075d9705ac7a089"
      },
      "cell_type": "markdown",
      "source": "## Load the data"
    },
    {
      "metadata": {
        "trusted": true,
        "_uuid": "38eaf749d2f50f1945fe55d99c1a2dbde81f8b1e"
      },
      "cell_type": "code",
      "source": "market_train_df = pd.read_feather('../input/market_train_df.feather')",
      "execution_count": null,
      "outputs": []
    },
    {
      "metadata": {
        "trusted": true,
        "_uuid": "584ab96f2e5a2bdb7d283e05952b171e48be05b4"
      },
      "cell_type": "code",
      "source": "news_train_df   = pd.read_feather('../input/news_train_df.feather')",
      "execution_count": null,
      "outputs": []
    },
    {
      "metadata": {
        "trusted": true,
        "_uuid": "605e7b8dfb8c6f724234ed0c58471fd58f87ed10"
      },
      "cell_type": "code",
      "source": "print('Market train shape: ',market_train_df.shape)\nprint('News train shape: ', news_train_df.shape)",
      "execution_count": null,
      "outputs": []
    },
    {
      "metadata": {
        "trusted": true,
        "_uuid": "87134b33650bee6ce5e202153d45198d4f8b7206"
      },
      "cell_type": "code",
      "source": "market_train_df.head(5)",
      "execution_count": null,
      "outputs": []
    },
    {
      "metadata": {
        "trusted": true,
        "_uuid": "1b0be967abcc7910cda479933c3695e049df35b9"
      },
      "cell_type": "code",
      "source": "market_train_df.describe()",
      "execution_count": null,
      "outputs": []
    },
    {
      "metadata": {
        "trusted": true,
        "_uuid": "a3ac3bed54ef02de5995e47186ed651a7b305e02"
      },
      "cell_type": "code",
      "source": "news_train_df.head(5)",
      "execution_count": null,
      "outputs": []
    },
    {
      "metadata": {
        "trusted": true,
        "_uuid": "7a1a2360a6addb11ee4b70c660f7855a9de59461"
      },
      "cell_type": "code",
      "source": "news_train_df.describe()",
      "execution_count": null,
      "outputs": []
    },
    {
      "metadata": {
        "trusted": true,
        "_uuid": "93d03d81e1e53857783cd4d650591ea5f0f70485"
      },
      "cell_type": "markdown",
      "source": "## Explore news data"
    },
    {
      "metadata": {
        "_uuid": "421dc99883a5bfbc3505253d24117b14bb60fff3"
      },
      "cell_type": "markdown",
      "source": "### Evolutions over time"
    },
    {
      "metadata": {
        "trusted": true,
        "_uuid": "aa5720aecade6fd1468c573f8cd70ec95c6798ea",
        "_kg_hide-input": true
      },
      "cell_type": "code",
      "source": "# Sort values by time then extract date\nnews_train_df = news_train_df.sort_values(by='time')\nnews_train_df['date'] = news_train_df['time'].dt.date",
      "execution_count": null,
      "outputs": []
    },
    {
      "metadata": {
        "trusted": true,
        "_uuid": "dd1bfcfdd7ee354335e3c109d9964af3e36029c4",
        "_kg_hide-input": true
      },
      "cell_type": "code",
      "source": "# Function to plot time series data\ndef plot_vs_time(data_frame, column, calculation='mean', span=10):\n    if calculation == 'mean':\n        group_temp = data_frame.groupby('date')[column].mean().reset_index()\n    if calculation == 'count':\n        group_temp = data_frame.groupby('date')[column].count().reset_index()\n    if calculation == 'nunique':\n        group_temp = data_frame.groupby('date')[column].nunique().reset_index()\n    group_temp = group_temp.ewm(span=span).mean()\n    fig = plt.figure(figsize=(10,3))\n    plt.plot(group_temp['date'], group_temp[column])\n    plt.xlabel('Time')\n    plt.ylabel(column)\n    plt.title('%s versus time' %column)",
      "execution_count": null,
      "outputs": []
    },
    {
      "metadata": {
        "_kg_hide-input": true,
        "trusted": true,
        "_uuid": "e3c874f8a57287261eb8802e443757fee60b4f25"
      },
      "cell_type": "code",
      "source": "plot_vs_time(news_train_df, 'sourceId', calculation='count', span=10)\nplt.title('News count vs time')\nplt.ylabel('Count')",
      "execution_count": null,
      "outputs": []
    },
    {
      "metadata": {
        "_uuid": "d31a194a612f853d63a5dc2de88a1dc64d019e98"
      },
      "cell_type": "markdown",
      "source": "There is a maximum peak every quarter (time for quaterly financial report) and a minimum peak at the end of the year (time for Christmast holliday.)"
    },
    {
      "metadata": {
        "_kg_hide-input": true,
        "trusted": true,
        "_uuid": "b7fcc9200c1ea093ecd5ed5f765948fbd493e0da"
      },
      "cell_type": "code",
      "source": "# Plot time evolution of several parameters\n\ncolumns = ['urgency', 'takeSequence', 'companyCount','marketCommentary','sentenceCount',\\\n           'firstMentionSentence','relevance','sentimentClass','sentimentWordCount','noveltyCount24H', 'volumeCounts24H']\n\nfor column in columns:\n    plot_vs_time(news_train_df, column)",
      "execution_count": null,
      "outputs": []
    },
    {
      "metadata": {
        "_uuid": "2a7dd31ea83d826e30983f23d1496edfe8e6129f"
      },
      "cell_type": "markdown",
      "source": "### Time delay"
    },
    {
      "metadata": {
        "trusted": true,
        "_uuid": "7fecd445017f16c29562d5e0be4c76b7c636bbb6",
        "_kg_hide-input": true
      },
      "cell_type": "code",
      "source": "time_delay = (pd.to_datetime(news_train_df['time']) - pd.to_datetime(news_train_df['firstCreated']))\ntime_delay_log10 = np.log10(time_delay.dt.total_seconds()/60+1)",
      "execution_count": null,
      "outputs": []
    },
    {
      "metadata": {
        "trusted": true,
        "_uuid": "178c55410a14e55423621f658c4fde62707ad5cf",
        "_kg_hide-input": true
      },
      "cell_type": "code",
      "source": "plt.hist(time_delay_log10, bins=np.arange(0,2.5,0.25), rwidth=0.7)\nplt.xlabel('$Log_{10}$(Time delay in minutes +1)')\nplt.ylabel('Counts')\nplt.title('Delay time distribution')",
      "execution_count": null,
      "outputs": []
    },
    {
      "metadata": {
        "_kg_hide-input": true,
        "trusted": true,
        "_uuid": "0c008e703fcfdaa8e9b2d0cbe02d34309059f8b0"
      },
      "cell_type": "code",
      "source": "time_delay_min = time_delay.dt.total_seconds()/60\ntime_delay_df = time_delay_min.to_frame().join(news_train_df['date'].to_frame())\ntime_delay_df.columns = ['delay','date']\nplot_vs_time(time_delay_df, 'delay')\nplt.ylabel('Delay (minutes)')",
      "execution_count": null,
      "outputs": []
    },
    {
      "metadata": {
        "_uuid": "b3f483af18a84536e73eb5865e44e33e40cc4979"
      },
      "cell_type": "markdown",
      "source": "### Urgency"
    },
    {
      "metadata": {
        "trusted": true,
        "_uuid": "dfd02bbc0d41b4d73e46cc7e1b8700089dae0ea8",
        "_kg_hide-input": true
      },
      "cell_type": "code",
      "source": "urgency_count = news_train_df.groupby('urgency')['sourceId'].count()\nurgency_count = urgency_count/urgency_count.sum()\nprint('Urgency ratio')\nurgency_count.sort_values(ascending=True)",
      "execution_count": null,
      "outputs": []
    },
    {
      "metadata": {
        "_uuid": "6c154f10f3cae08696309a308ca4d242923c7854"
      },
      "cell_type": "markdown",
      "source": "### Take sequence"
    },
    {
      "metadata": {
        "trusted": true,
        "_uuid": "2a7510b351cf92b37acb36dcb5c817b592eaf376",
        "_kg_hide-input": true
      },
      "cell_type": "code",
      "source": "take_sequence = news_train_df.groupby('takeSequence')['sourceId'].count()",
      "execution_count": null,
      "outputs": []
    },
    {
      "metadata": {
        "trusted": true,
        "_uuid": "ee333829bbf07b15e54ba87ec8df7133dd2d8572",
        "_kg_hide-input": true
      },
      "cell_type": "code",
      "source": "take_sequence = take_sequence.sort_values(ascending= False)\ntake_sequence[:10].plot.barh()\nplt.xlabel('Count')\nplt.ylabel('Take sequence')\nplt.title('Top 10 take sequence')\nplt.gca().invert_yaxis()",
      "execution_count": null,
      "outputs": []
    },
    {
      "metadata": {
        "trusted": true,
        "_uuid": "c639ddc777bcb76a0dc2b6868805f452dbc09b04"
      },
      "cell_type": "markdown",
      "source": "### Providers"
    },
    {
      "metadata": {
        "trusted": true,
        "_uuid": "0bb4a59d430e52a2bc0bad214882004ba74ae9ac",
        "_kg_hide-input": true
      },
      "cell_type": "code",
      "source": "provider_count = news_train_df.groupby('provider')['sourceId'].count()",
      "execution_count": null,
      "outputs": []
    },
    {
      "metadata": {
        "trusted": true,
        "_uuid": "8afbc00a56f039e57b0323b507d68a50c0945fc7",
        "_kg_hide-input": true
      },
      "cell_type": "code",
      "source": "provider_sort = provider_count.sort_values(ascending= False)\nprovider_sort[:10].plot.barh()\nplt.xlabel('Count')\nplt.ylabel('Provider')\nplt.title('Top 10 news provider')\nplt.gca().invert_yaxis()",
      "execution_count": null,
      "outputs": []
    },
    {
      "metadata": {
        "_uuid": "268c844df3f359a9faf6b3f877831a0fc156ca3f"
      },
      "cell_type": "markdown",
      "source": "### Subjects"
    },
    {
      "metadata": {
        "trusted": true,
        "_uuid": "affec3723b6ea7a5a6af4f6e335a4408b696ac54",
        "_kg_hide-input": true
      },
      "cell_type": "code",
      "source": "# Extract data from a single cell\ndef contents_to_list(contents):\n    text = contents[1:-1]\n    text = re.sub(r\",\",' ',text)\n    text = re.sub(r\"'\",\"\", text)\n    text_list = text.split('  ')\n    return text_list\n\n# Put data from columns into dict\ndef get_content_dict(content_column):\n    content_dict = {}\n    for k in content_column.keys():\n        this_cell = content_column[k]\n        content_list = contents_to_list(this_cell)        \n        for content in content_list:\n            if content in content_dict.keys():\n                content_dict[content] += 1\n            else:\n                content_dict[content] = 1\n    return content_dict\n",
      "execution_count": null,
      "outputs": []
    },
    {
      "metadata": {
        "trusted": true,
        "_uuid": "8b2dd8627043d510263827e170169e25d369ecf3",
        "_kg_hide-input": true
      },
      "cell_type": "code",
      "source": "subjects = news_train_df.sample(n=10000, random_state=1)['subjects']\nsubjects_dict = get_content_dict(subjects)",
      "execution_count": null,
      "outputs": []
    },
    {
      "metadata": {
        "trusted": true,
        "_uuid": "2fd0403ff406e0835c7ec7579439c0384b0739fa",
        "_kg_hide-input": true
      },
      "cell_type": "code",
      "source": "subjects_df = pd.Series(subjects_dict).sort_values(ascending=False)\nsubjects_df[:15].plot.barh()\nplt.ylabel('Subjects')\nplt.xlabel('Counts')\nplt.title('Top subjects for 10k data')\nplt.gca().invert_yaxis()",
      "execution_count": null,
      "outputs": []
    },
    {
      "metadata": {
        "trusted": true,
        "_uuid": "c88ed3ad8727491f21fb888a0683296f2d4eb2ad"
      },
      "cell_type": "markdown",
      "source": "### Audiences"
    },
    {
      "metadata": {
        "trusted": true,
        "_uuid": "1c133b53599e27a513899c5ee88df5586e14af4d",
        "_kg_hide-input": true
      },
      "cell_type": "code",
      "source": "audiences = news_train_df.sample(n=10000, random_state=1)['audiences']\naudiences_dict = get_content_dict(audiences)",
      "execution_count": null,
      "outputs": []
    },
    {
      "metadata": {
        "trusted": true,
        "_uuid": "9b320b3c7cefc4bf4faa75a06659bf7453aa4751",
        "_kg_hide-input": true
      },
      "cell_type": "code",
      "source": "audiences_df = pd.Series(audiences_dict).sort_values(ascending=False)\naudiences_df[:15].plot.barh()\nplt.ylabel('Audiences')\nplt.xlabel('Counts')\nplt.title('Top audiences for 10k data')\nplt.gca().invert_yaxis()",
      "execution_count": null,
      "outputs": []
    },
    {
      "metadata": {
        "_uuid": "09df65719e6b49c9aed14eb4bacf887c8c91eac5"
      },
      "cell_type": "markdown",
      "source": "### Company Count"
    },
    {
      "metadata": {
        "trusted": true,
        "_uuid": "ef4fefa4b51a8fce038ec628d9d7025ed377fc39",
        "_kg_hide-input": true
      },
      "cell_type": "code",
      "source": "news_train_df['companyCount'].hist(bins=np.arange(0,30,1))\nplt.xlabel('Company count')\nplt.title('Company count distribution')",
      "execution_count": null,
      "outputs": []
    },
    {
      "metadata": {
        "trusted": true,
        "_uuid": "23d56742da7c14f5df9db324c3716a06bc56a10e"
      },
      "cell_type": "markdown",
      "source": "### Head line tag"
    },
    {
      "metadata": {
        "trusted": true,
        "_uuid": "3d03d5ab32732285e3b0ee07232289089c2ae1f2",
        "_kg_hide-input": true
      },
      "cell_type": "code",
      "source": "head_line = news_train_df.groupby('headlineTag')['sourceId'].count()",
      "execution_count": null,
      "outputs": []
    },
    {
      "metadata": {
        "trusted": true,
        "_uuid": "74d3b36c58ddb2df46bcf1d63e724a0afb0446dd",
        "_kg_hide-input": true
      },
      "cell_type": "code",
      "source": "head_line_sort = head_line.sort_values(ascending= False)\nhead_line_sort[:10].plot.barh()\nplt.xlabel('Count')\nplt.ylabel('Head line')\nplt.title('Top 10 head lines')\nplt.gca().invert_yaxis()",
      "execution_count": null,
      "outputs": []
    },
    {
      "metadata": {
        "_uuid": "5282c1098f638173a19b2baf6ae962f367b3da55"
      },
      "cell_type": "markdown",
      "source": "Most headlines are blank. This properties may not be important."
    },
    {
      "metadata": {
        "trusted": true,
        "_uuid": "6d393bbd554a89347a8bdeedd41b936499a5fdcb"
      },
      "cell_type": "markdown",
      "source": "### First sentence - Urgency - relevance - sentiment Word Count"
    },
    {
      "metadata": {
        "_uuid": "6598e6f49f93908f5ed202a5a224a455f5c41f67"
      },
      "cell_type": "markdown",
      "source": "**First sentence and urgency**"
    },
    {
      "metadata": {
        "trusted": true,
        "_uuid": "72ebe9b92e4338720abad56321c93b5a2f44f631",
        "_kg_hide-input": true
      },
      "cell_type": "code",
      "source": "news_train_df['firstMentionSentence'].hist(bins=np.arange(0,20,1))\nplt.xlabel('First mention sentence')\nplt.ylabel('Count')\nplt.title('First mention sentence distribution')",
      "execution_count": null,
      "outputs": []
    },
    {
      "metadata": {
        "trusted": true,
        "_uuid": "b91e025e67d3020b121b0703f962584afb6f21de",
        "_kg_hide-input": true
      },
      "cell_type": "code",
      "source": "sentence_urgency = news_train_df.groupby('firstMentionSentence')['urgency'].mean()\nsentence_urgency.head(5)",
      "execution_count": null,
      "outputs": []
    },
    {
      "metadata": {
        "_uuid": "2f69a8170e80326efbff05f83f25c0cc92763356"
      },
      "cell_type": "markdown",
      "source": "**First sentence and relevance**"
    },
    {
      "metadata": {
        "trusted": true,
        "_uuid": "46f38eb2f0b5138ba5a5a6113b8d9d0f091eea80",
        "_kg_hide-input": true
      },
      "cell_type": "code",
      "source": "news_train_df['relevance'].hist(bins=np.arange(0,1.01,0.05))\nplt.xlabel('Relevance')\nplt.ylabel('Count')\nplt.title('Relevance distribution')",
      "execution_count": null,
      "outputs": []
    },
    {
      "metadata": {
        "trusted": true,
        "_uuid": "31b32fce26d0450ca58fb4db606ee2725b31d4ec",
        "_kg_hide-input": true
      },
      "cell_type": "code",
      "source": "sentence_relevance = news_train_df.groupby('firstMentionSentence')['relevance'].mean()\nsentence_relevance[:15].plot.barh()\nplt.xlabel('Relevance')\nplt.title('Relevance by sentence')\nplt.gca().invert_yaxis()",
      "execution_count": null,
      "outputs": []
    },
    {
      "metadata": {
        "_uuid": "e4b956b17b8d8936c378c16ba717f036dac2a084"
      },
      "cell_type": "markdown",
      "source": "**Sentiment word count and relevance**"
    },
    {
      "metadata": {
        "trusted": true,
        "_uuid": "28bfb6c469d18be39e58f4812e2a2c5077d3de71",
        "_kg_hide-input": true
      },
      "cell_type": "code",
      "source": "sentimentWordCount = news_train_df.groupby('sentimentWordCount')['sourceId'].count().reset_index()\nplt.plot(sentimentWordCount['sentimentWordCount'], sentimentWordCount['sourceId'])\nplt.xlim(0,300)\nplt.xlabel('Sentiment words count')\nplt.ylabel('Count')\nplt.title('Sentiment words count distribution')",
      "execution_count": null,
      "outputs": []
    },
    {
      "metadata": {
        "trusted": true,
        "_uuid": "4e522d43517a990c3d8392d37d823febd5404337",
        "_kg_hide-input": true
      },
      "cell_type": "code",
      "source": "sentimentWordRatio = news_train_df.groupby('sentimentWordCount')['relevance'].mean()\nplt.plot(sentimentWordRatio)\nplt.xlim(0,2000)\nplt.ylabel('Relevance')\nplt.xlabel('Sentiment word count')\nplt.title('Sentiment word count and relevance')",
      "execution_count": null,
      "outputs": []
    },
    {
      "metadata": {
        "_uuid": "878f90fb7f2855f0061c3babfcbc481a9e665254"
      },
      "cell_type": "markdown",
      "source": "**Sentiment ratio**"
    },
    {
      "metadata": {
        "trusted": true,
        "_uuid": "38051d1570778ad1f6f2f43685aefa3f0f9c7d90",
        "_kg_hide-input": true
      },
      "cell_type": "code",
      "source": "news_train_df['sentimentRatio'] = np.float32(news_train_df['sentimentWordCount']/news_train_df['wordCount'])\nnews_train_df['sentimentRatio'].hist(bins=np.linspace(0,1.001,40))\nplt.xlabel('Sentiment ratio')\nplt.ylabel('Count')\nplt.title('Sentiment ratio distribution')",
      "execution_count": null,
      "outputs": []
    },
    {
      "metadata": {
        "trusted": true,
        "_uuid": "a46cf2ec80d7459b562fdd09135106eb561e99db",
        "_kg_hide-input": true
      },
      "cell_type": "code",
      "source": "news_train_df.sample(n=10000, random_state=1).plot.scatter('sentimentRatio', 'relevance')\nplt.title('Relevance vs sentiment ratio of 10k samples')",
      "execution_count": null,
      "outputs": []
    },
    {
      "metadata": {
        "trusted": true,
        "_uuid": "5337827b2023bf3bb3f5cfcd98eccaa88874aef6"
      },
      "cell_type": "markdown",
      "source": "### Asset name"
    },
    {
      "metadata": {
        "trusted": true,
        "_uuid": "26cb4dd8efd59802e83ac1e0f63eff19a04809b6",
        "_kg_hide-input": true
      },
      "cell_type": "code",
      "source": "asset_name = news_train_df.groupby('assetName')['sourceId'].count()\nprint('Total number of assets: ',news_train_df['assetName'].nunique())",
      "execution_count": null,
      "outputs": []
    },
    {
      "metadata": {
        "trusted": true,
        "_uuid": "c58a857268ced6707550d79b894098759300d021",
        "_kg_hide-input": true
      },
      "cell_type": "code",
      "source": "asset_name = asset_name.sort_values(ascending=False)\nasset_name[:10].plot.barh()\nplt.gca().invert_yaxis()\nplt.xlabel('Count')\nplt.title('Top 10 assets news')",
      "execution_count": null,
      "outputs": []
    },
    {
      "metadata": {
        "trusted": true,
        "_uuid": "b21a188d06dc8abdef25fec298632a7a43858f32",
        "_kg_hide-input": true
      },
      "cell_type": "code",
      "source": "for i, j in zip([-1, 0, 1], ['negative', 'neutral', 'positive']):\n    df_sentiment = news_train_df.loc[news_train_df['sentimentClass'] == i, 'assetName']\n    print(f'Top mentioned companies for {j} sentiment are:')\n    print(df_sentiment.value_counts().head(5))\n    print('')",
      "execution_count": null,
      "outputs": []
    },
    {
      "metadata": {
        "trusted": true,
        "_uuid": "a79869fa1cf3ea6b19b1c7187f95c66ad49a8e5e"
      },
      "cell_type": "markdown",
      "source": "### Remove outliers and plot correlation"
    },
    {
      "metadata": {
        "trusted": true,
        "_uuid": "61f5cac4814e81fc5c600cf2ef90032a570764f6",
        "_kg_hide-input": false
      },
      "cell_type": "code",
      "source": "# Function to remove outliers\ndef remove_outliers(data_frame, column_list, low=0.02, high=0.98):\n    temp_frame = data_frame\n    for column in column_list:\n        this_column = data_frame[column]\n        quant_df = this_column.quantile([low,high])\n        low_limit = quant_df[low]\n        high_limit = quant_df[high]\n        temp_frame[column] = data_frame[column].clip(lower=low_limit, upper=high_limit)\n    return temp_frame",
      "execution_count": null,
      "outputs": []
    },
    {
      "metadata": {
        "trusted": true,
        "_uuid": "519a776b4a1fdbe32c60fb3644d6542162c26e1f",
        "_kg_hide-input": true
      },
      "cell_type": "code",
      "source": "# Remove outlier\ncolumns_outlier = ['takeSequence', 'bodySize', 'sentenceCount', 'wordCount', 'sentimentWordCount', 'firstMentionSentence','noveltyCount12H',\\\n                  'noveltyCount24H', 'noveltyCount3D', 'noveltyCount5D', 'noveltyCount7D', 'volumeCounts12H', 'volumeCounts24H',\\\n                  'volumeCounts3D','volumeCounts5D','volumeCounts7D']\nnews_rmv_outlier = remove_outliers(news_train_df, columns_outlier)",
      "execution_count": null,
      "outputs": []
    },
    {
      "metadata": {
        "trusted": true,
        "_uuid": "9f07e684c3bf01462a34db96df8bdb262aeb7390",
        "_kg_hide-input": true
      },
      "cell_type": "code",
      "source": "# Plot correlation\ncolumns_corr = ['urgency', 'takeSequence', 'companyCount','marketCommentary','sentenceCount',\\\n           'firstMentionSentence','relevance','sentimentClass','sentimentWordCount','noveltyCount24H',\\\n           'noveltyCount3D', 'noveltyCount5D', 'noveltyCount7D','volumeCounts24H','volumeCounts3D','volumeCounts5D','volumeCounts7D']\ncolormap = plt.cm.RdBu\nplt.figure(figsize=(18,15))\nsns.heatmap(news_rmv_outlier[columns_corr].astype(np.float16).corr(), linewidths=0.1, vmax=1.0, vmin=-1., square=True, cmap=colormap, linecolor='white', annot=True)\nplt.title('Pair-wise correlation')",
      "execution_count": null,
      "outputs": []
    },
    {
      "metadata": {
        "trusted": true,
        "_uuid": "0b3c24baa4f48418432e25222af4842e798bf168"
      },
      "cell_type": "markdown",
      "source": "## Explore market data"
    },
    {
      "metadata": {
        "trusted": true,
        "_uuid": "668174b0fcce4d2c3790a349d514daa7bca1226a",
        "_kg_hide-input": true
      },
      "cell_type": "code",
      "source": "print('Check null data:')\nmarket_train_df.isna().sum()",
      "execution_count": null,
      "outputs": []
    },
    {
      "metadata": {
        "trusted": true,
        "_uuid": "16557cc1e355af4ae50c43c0028c74845345b9f9"
      },
      "cell_type": "markdown",
      "source": "**Some preprocessing:**\n* Sort data in chronological order\n* All NAN data comes from the market adjusted column. We fill them up with the raw value data"
    },
    {
      "metadata": {
        "trusted": true,
        "_uuid": "ddd1a118e6bba8a47edde4f72ade8a816413ae7b",
        "_kg_hide-input": true
      },
      "cell_type": "code",
      "source": "# Sort data\nmarket_train_df = market_train_df.sort_values('time')\nmarket_train_df['date'] = market_train_df['time'].dt.date\n\n# Fill nan\nmarket_train_fill = market_train_df\ncolumn_market = ['returnsClosePrevMktres1','returnsOpenPrevMktres1','returnsClosePrevMktres10', 'returnsOpenPrevMktres10']\ncolumn_raw = ['returnsClosePrevRaw1', 'returnsOpenPrevRaw1','returnsClosePrevRaw10', 'returnsOpenPrevRaw10']\nfor i in range(len(column_raw)):\n    market_train_fill[column_market[i]] = market_train_fill[column_market[i]].fillna(market_train_fill[column_raw[i]])",
      "execution_count": null,
      "outputs": []
    },
    {
      "metadata": {
        "trusted": true,
        "_uuid": "39183944170d9622d94e395f47e9513137dc1fd8"
      },
      "cell_type": "markdown",
      "source": "### Plot data versus time"
    },
    {
      "metadata": {
        "trusted": true,
        "_uuid": "8f38c5b5e7cb8dfda222be19a3c31e5b81f2911d",
        "_kg_hide-input": true
      },
      "cell_type": "code",
      "source": "plot_vs_time(market_train_fill, 'assetCode', 'count')\nplt.title('Number of asset codes versus time')",
      "execution_count": null,
      "outputs": []
    },
    {
      "metadata": {
        "trusted": true,
        "_uuid": "6b7cf7be47bba2c1365e37736af026c45aac7d83",
        "_kg_hide-input": true
      },
      "cell_type": "code",
      "source": "# Inspired by https://www.kaggle.com/artgor/eda-feature-engineering-and-everything\nfor i in [0.05, 0.1, 0.25, 0.5, 0.75, 0.9, 0.95]:\n    price_df = market_train_fill.groupby('date')['close'].quantile(i).reset_index()\n    plt.plot(price_df['date'], price_df['close'], label='%.2f quantile' %i)\nplt.legend(loc='best')\nplt.xlabel('Time')\nplt.ylabel('Price')\nplt.title('Market close price by quantile')",
      "execution_count": null,
      "outputs": []
    },
    {
      "metadata": {
        "trusted": true,
        "_uuid": "b91a7e0dea0e737138e45cd04fa12d84a2c0e5f2",
        "_kg_hide-input": true
      },
      "cell_type": "code",
      "source": "for i in [0.05, 0.25, 0.5, 0.75, 0.95]:\n    price_df = market_train_fill.groupby('date')['returnsClosePrevRaw1'].quantile(i).reset_index()\n    plt.plot(price_df['date'], price_df['returnsClosePrevRaw1'], label='%.2f quantile' %i)\nplt.legend(loc='best')\nplt.xlabel('Time')\nplt.ylabel('Value')\nplt.title('returnsClosePrevRaw1 by quantile')\n",
      "execution_count": null,
      "outputs": []
    },
    {
      "metadata": {
        "trusted": true,
        "_uuid": "bb4fda0922c1972985f2d81647163da8a34b610f",
        "_kg_hide-input": true
      },
      "cell_type": "code",
      "source": "for i in [0.05, 0.25, 0.5, 0.75, 0.95]:\n    price_df = market_train_fill.groupby('date')['returnsOpenPrevRaw10'].quantile(i).reset_index()\n    plt.plot(price_df['date'], price_df['returnsOpenPrevRaw10'], label='%.2f quantile' %i)\nplt.legend(loc=1)\nplt.xlabel('Time')\nplt.ylabel('Value')\nplt.title('returnsOpenPrevRaw10 by quantiles')",
      "execution_count": null,
      "outputs": []
    },
    {
      "metadata": {
        "trusted": true,
        "_uuid": "d4f4f4fa8b458c4f50ff27def35dc24540d6127f",
        "_kg_hide-input": true
      },
      "cell_type": "code",
      "source": "for i in [0.05, 0.25, 0.5, 0.75, 0.95]:\n    price_df = market_train_fill.groupby('date')['returnsOpenPrevMktres10'].quantile(i).reset_index()\n    plt.plot(price_df['date'], price_df['returnsOpenPrevMktres10'], label='%.2f quantile' %i)\nplt.legend(loc=1)\nplt.xlabel('Time')\nplt.ylabel('Value')\nplt.title('returnsOpenPrevMktres10 by quantiles')",
      "execution_count": null,
      "outputs": []
    },
    {
      "metadata": {
        "trusted": true,
        "_uuid": "df5a76133257e46899c6e07ff09a5628707dcfb9",
        "_kg_hide-input": true
      },
      "cell_type": "code",
      "source": "for i in [0.05, 0.25, 0.5, 0.75, 0.95]:\n    price_df = market_train_fill.groupby('date')['returnsOpenNextMktres10'].quantile(i).reset_index()\n    plt.plot(price_df['date'], price_df['returnsOpenNextMktres10'], label='%.2f quantile' %i)\nplt.legend(loc=1)\nplt.xlabel('Time')\nplt.ylabel('Value')\nplt.title('returnsOpenNextMktres10 by quantiles')",
      "execution_count": null,
      "outputs": []
    },
    {
      "metadata": {
        "trusted": true,
        "_uuid": "aeb61e036a694497c9212da7a67b07ec98ba6889",
        "_kg_hide-input": true
      },
      "cell_type": "code",
      "source": "for i in [0.05, 0.25, 0.5, 0.75, 0.95]:\n    price_df = market_train_fill.groupby('date')['volume'].quantile(i).reset_index()\n    plt.plot(price_df['date'], price_df['volume'], label='%.2f quantile' %i)\nplt.legend(loc='best')\nplt.xlabel('Time')\nplt.ylabel('Volumes')\nplt.title('Market trade volumes by quantile')",
      "execution_count": null,
      "outputs": []
    },
    {
      "metadata": {
        "_uuid": "34dfa930af54b34f893f2f18edd7fe3a3c0ac1cd"
      },
      "cell_type": "markdown",
      "source": "### Difference between raw values and market adjusted values\n\nLet see if there's any difference between raw return and market adjusted return"
    },
    {
      "metadata": {
        "trusted": true,
        "_uuid": "4600b75bb23819235e35ca1bfe35b18b81321a22",
        "_kg_hide-input": true
      },
      "cell_type": "code",
      "source": "column_mkt_raw_diff = []\nfor i in range(len(column_market)):\n    this_raw = column_raw[i]\n    this_market = column_market[i]\n    new_column_name = 'mkt_raw_diff'+this_raw.replace('returns','').replace('Raw','')\n    column_mkt_raw_diff.append(new_column_name)\n    market_train_fill[new_column_name] = market_train_fill[this_market] - market_train_fill[this_raw]",
      "execution_count": null,
      "outputs": []
    },
    {
      "metadata": {
        "trusted": true,
        "_uuid": "87f6a951ac0ce9cc805c1912132aaafdf19dcac2",
        "_kg_hide-input": true
      },
      "cell_type": "code",
      "source": "market_train_fill[column_mkt_raw_diff].describe()",
      "execution_count": null,
      "outputs": []
    },
    {
      "metadata": {
        "trusted": true,
        "_uuid": "05091d2a6d8b5e2bd0e717180dd7e8e5eb6822c0"
      },
      "cell_type": "markdown",
      "source": "The difference between raw return and market adjusted returns are negligible, but there are some extreme values. Those values are noise and needs to be taken care of"
    },
    {
      "metadata": {
        "trusted": true,
        "_uuid": "fa11197b3cf981e5a4c7e3c8c2e79e1cb9e58b81"
      },
      "cell_type": "markdown",
      "source": "### Asset codes"
    },
    {
      "metadata": {
        "_kg_hide-input": true,
        "trusted": true,
        "_uuid": "07f4184a828b14d81c81d0a04b6a517ea9672024"
      },
      "cell_type": "code",
      "source": "assetCode_df = market_train_df.groupby('assetCode')['volume'].sum().sort_values(ascending=False)\nprint('There are %i unique asset code' %len(assetCode_df))",
      "execution_count": null,
      "outputs": []
    },
    {
      "metadata": {
        "trusted": true,
        "_uuid": "3fe3e9743c61553af8cf70a72354f228d8b1ea7d",
        "_kg_hide-input": true
      },
      "cell_type": "code",
      "source": "unknown_name = market_train_fill[market_train_fill['assetName']=='Unknown']\nunknown_count = unknown_name['assetCode'].value_counts().sort_values(ascending=False)",
      "execution_count": null,
      "outputs": []
    },
    {
      "metadata": {
        "trusted": true,
        "_uuid": "cd8c0bb5582d334fcde7fda425693006dd78cacc",
        "_kg_hide-input": true
      },
      "cell_type": "code",
      "source": "print('There are %i unique asset code with unknown asset name' %len(unknown_count))",
      "execution_count": null,
      "outputs": []
    },
    {
      "metadata": {
        "trusted": true,
        "_uuid": "54d8013519b3c23df5806c19e133c26027fc30f2",
        "_kg_hide-input": true
      },
      "cell_type": "code",
      "source": "unknown_count[:15].plot.barh()\nplt.ylabel('assetCode')\nplt.xlabel('Counts')\nplt.title('Top 15 asset code with Unknown asset name')\nplt.gca().invert_yaxis()",
      "execution_count": null,
      "outputs": []
    },
    {
      "metadata": {
        "_kg_hide-input": true,
        "trusted": true,
        "_uuid": "e44ac81a3a1f9eeba184befc5556c85428c79d7a"
      },
      "cell_type": "code",
      "source": "assetCode_df[:15].plot.barh()\nplt.ylabel('assetCode')\nplt.xlabel('Trading volume')\nplt.title('Top 15 asset code by volume')\nplt.gca().invert_yaxis()",
      "execution_count": null,
      "outputs": []
    },
    {
      "metadata": {
        "_uuid": "e47eb7a4665a0fac13785ead0a45499fe56a156d"
      },
      "cell_type": "markdown",
      "source": "### Asset Name"
    },
    {
      "metadata": {
        "_kg_hide-input": true,
        "trusted": true,
        "_uuid": "f135c52c9f11550d8e7efc8453b0d0599568261f"
      },
      "cell_type": "code",
      "source": "assetName_Volume = market_train_df.groupby('assetName')['volume'].sum().sort_values(ascending=False)\nassetName_Volume[:15].plot.barh()\nplt.ylabel('assetName')\nplt.xlabel('Trading volume')\nplt.title('Top 15 asset name by volume')\nplt.gca().invert_yaxis()",
      "execution_count": null,
      "outputs": []
    },
    {
      "metadata": {
        "_uuid": "76a0bd4527ed859af58a14c622498dae7e569589"
      },
      "cell_type": "markdown",
      "source": "The volume ranking by coorperation seems to be the same as the rank of asset codes they own, e.g. the one with most popular codes has the most trading volume"
    },
    {
      "metadata": {
        "_kg_hide-input": true,
        "trusted": true,
        "_uuid": "1c6311b4d3bc2b4936f67a6c2a923745369cfaa5"
      },
      "cell_type": "code",
      "source": "assetName_code = market_train_df.groupby('assetName')['assetCode'].nunique().reset_index().sort_values(by='assetCode',ascending=False)",
      "execution_count": null,
      "outputs": []
    },
    {
      "metadata": {
        "_kg_hide-input": true,
        "trusted": true,
        "_uuid": "58e5eab7313a6c761a966d50afd346a88d9dd183"
      },
      "cell_type": "code",
      "source": "assetCodeCount = assetName_code.groupby('assetCode')['assetName'].count().reset_index()\nassetCodeCount.columns = ['assetCodeNo', 'counts']\nassetCodeCount.head()",
      "execution_count": null,
      "outputs": []
    },
    {
      "metadata": {
        "_uuid": "05dcf2dcf487b67c7f46072e6522cef27462cba9"
      },
      "cell_type": "markdown",
      "source": "**The vast majority of companies has only one asset code**. One '*company*' that has 110 actually is the  'Unknown' category. Magically, some companies don't even have any asset code. Currently I have no explanation for this."
    },
    {
      "metadata": {
        "_uuid": "a998673ff52c0ad258545f3463a5dda4180a1973"
      },
      "cell_type": "markdown",
      "source": "### Correlations"
    },
    {
      "metadata": {
        "trusted": true,
        "_uuid": "c6b2efee6c2a29459f43d2157d284692ec42f6f1",
        "_kg_hide-input": true
      },
      "cell_type": "code",
      "source": "columns_corr_market = ['volume', 'open', 'close','returnsClosePrevRaw1','returnsOpenPrevRaw1',\\\n           'returnsClosePrevMktres1','returnsOpenPrevMktres1','returnsClosePrevMktres10','returnsOpenPrevRaw10',\\\n           'returnsClosePrevMktres10', 'returnsOpenPrevMktres10', 'returnsOpenNextMktres10']\ncolormap = plt.cm.RdBu\nplt.figure(figsize=(18,15))\nsns.heatmap(market_train_fill[columns_corr_market].astype(np.float16).corr(), linewidths=0.1, vmax=1.0, vmin=-1., square=True, cmap=colormap, linecolor='white', annot=True)\nplt.title('Pair-wise correlation')",
      "execution_count": null,
      "outputs": []
    },
    {
      "metadata": {
        "_uuid": "9b34d7c7c080b802ad0dafb6da7a3df5d3874368"
      },
      "cell_type": "markdown",
      "source": "### Dig deeper to a single asset\n\nLet's take a closer look to a single asset. Here I choose the one with largest trading volumen: 'Bank of America Corp'"
    },
    {
      "metadata": {
        "trusted": true,
        "_uuid": "32a49ef70eb5a6f655ee7c431830b5fef9be3037",
        "_kg_hide-input": true
      },
      "cell_type": "code",
      "source": "assetCode = 'Bank of America Corp'\nthisAssetMark_df = market_train_fill[market_train_fill['assetName']==assetCode].sort_values(by='date',ascending=True) \nthisAssetMark_df['diff_open_close'] = thisAssetMark_df['open'] - thisAssetMark_df['close']\nthisAssetNews_df = news_rmv_outlier[news_rmv_outlier['assetName']==assetCode]\n# Trading volume vs time\nthisAssetMark_df.plot(x='date', y='volume')\nplt.title('Trading volume vs time')\n# Price vs time\nthisAssetMark_df.plot(x='date', y='open')\nplt.title('Open price vs time')\n# Return vs time\nthisAssetMark_df.plot(x='date', y=['returnsOpenPrevRaw1', 'returnsOpenPrevRaw10','returnsOpenNextMktres10'], alpha=0.8)\nplt.title('Return vs time')\n",
      "execution_count": null,
      "outputs": []
    },
    {
      "metadata": {
        "_uuid": "cb8bb686bfbfdee120cba293ee49aa03ef005205"
      },
      "cell_type": "markdown",
      "source": "It can be seen that trading volume is strongly associated with price, i.e. trade increase when price hits bottom. Return is also strongly fluctuated at such time"
    },
    {
      "metadata": {
        "trusted": true,
        "_uuid": "ebdcf1bf67977eac53266a8bcdc68dfab3a8d073",
        "_kg_hide-input": true
      },
      "cell_type": "code",
      "source": "news_volume = thisAssetNews_df.groupby('date')['sourceId'].count().reset_index()\nnews_volume = news_volume.ewm(span=10).mean()\nnews_volume.plot(x='date',y='sourceId')\nplt.title('News volume vs time')",
      "execution_count": null,
      "outputs": []
    },
    {
      "metadata": {
        "trusted": true,
        "_uuid": "75dae3d3fa018e6540e46f31dfafdc2a63bca097",
        "_kg_hide-input": true
      },
      "cell_type": "code",
      "source": "news_urgency = thisAssetNews_df.groupby('date')['urgency'].mean().reset_index()\nnews_urgency = news_urgency.ewm(span=10).mean()\nnews_urgency.plot(x='date',y='urgency')\nplt.title('News urgency vs time')",
      "execution_count": null,
      "outputs": []
    },
    {
      "metadata": {
        "_uuid": "af4cc30681e1e50000ca194d7c9fbf1fdb0fcf1f"
      },
      "cell_type": "markdown",
      "source": "The news increases in volumes and urgency as price drops"
    },
    {
      "metadata": {
        "trusted": true,
        "_uuid": "84e3ccc789ea7ad18dd2572798381a456dea24bd",
        "_kg_hide-input": true
      },
      "cell_type": "code",
      "source": "news_relevance = thisAssetNews_df.groupby('date')['relevance'].mean().reset_index()\nnews_relevance = news_relevance.ewm(span=10).mean()\nnews_relevance.plot(x='date',y='relevance')\nplt.title('Relevance vs time')",
      "execution_count": null,
      "outputs": []
    },
    {
      "metadata": {
        "trusted": true,
        "_uuid": "e20e2aff75083e4272e90ee207d68fb9ab6c846d",
        "_kg_hide-input": true
      },
      "cell_type": "code",
      "source": "news_sentiment = thisAssetNews_df.groupby('date')['sentimentClass','sentimentNegative','sentimentNeutral','sentimentPositive'].mean().reset_index()\nnews_sentiment = news_sentiment.ewm(span=10).mean()\nnews_sentiment.plot(x='date',y=['sentimentClass','sentimentNegative','sentimentNeutral','sentimentPositive'], alpha=0.8)\nplt.title('Sentiment vs time')",
      "execution_count": null,
      "outputs": []
    },
    {
      "metadata": {
        "_uuid": "beecbc8b43f8e1a01ae8152766b52eca9bcda795"
      },
      "cell_type": "markdown",
      "source": "Sentiments are mostly negative. Sentiment drops as price drops, which is expected.\n\nNow let's merge the news and market data and see their correlations"
    },
    {
      "metadata": {
        "trusted": true,
        "_uuid": "ce24e874acf859c5412cbc3752ba20986302b585",
        "_kg_hide-input": true
      },
      "cell_type": "code",
      "source": "# Merge news and market data. Only keep numeric columns\nthisAssetMark_number = thisAssetMark_df[columns_corr_market+['date']]\nthisAssetMark_number = thisAssetMark_number.groupby('date').mean().reset_index()\nthisAssetNews_number = thisAssetNews_df[columns_corr+['date']]\nthisAssetNews_number = thisAssetNews_number.groupby('date').mean().reset_index()\nthisAssetNews_number['news_volume'] = thisAssetNews_df.groupby('date')['sourceId'].count().reset_index()['sourceId']\nthisAssetMerge = pd.merge(thisAssetMark_number, thisAssetNews_number, how='left', on = 'date')",
      "execution_count": null,
      "outputs": []
    },
    {
      "metadata": {
        "trusted": true,
        "_uuid": "0f7da060e5e8cc4a00f48ee539926abd2f590c4f",
        "_kg_hide-input": true
      },
      "cell_type": "code",
      "source": "columns_corr_merge = ['volume','open','close','returnsOpenPrevRaw1','returnsOpenPrevMktres1','returnsOpenPrevRaw10','returnsOpenPrevMktres10',\\\n                     'returnsOpenNextMktres10','news_volume','urgency','sentenceCount','relevance','sentimentClass',\\\n                     'noveltyCount24H','noveltyCount5D','volumeCounts24H','volumeCounts5D']\ncolormap = plt.cm.RdBu\nplt.figure(figsize=(18,15))\nsns.heatmap(thisAssetMerge[columns_corr_merge].astype(np.float16).corr(), linewidths=0.1, vmax=1.0, vmin=-1., square=True, cmap=colormap, linecolor='white', annot=True)\nplt.title('Pair-wise correlation market and news')",
      "execution_count": null,
      "outputs": []
    },
    {
      "metadata": {
        "trusted": true,
        "_uuid": "5d72a56caffe12f78ba3792d545da37bf1d2ad16"
      },
      "cell_type": "markdown",
      "source": "References: Nguyen Dang Minh, PhD"
    }
  ],
  "metadata": {
    "kernelspec": {
      "display_name": "Python 3",
      "language": "python",
      "name": "python3"
    },
    "language_info": {
      "name": "python",
      "version": "3.6.6",
      "mimetype": "text/x-python",
      "codemirror_mode": {
        "name": "ipython",
        "version": 3
      },
      "pygments_lexer": "ipython3",
      "nbconvert_exporter": "python",
      "file_extension": ".py"
    }
  },
  "nbformat": 4,
  "nbformat_minor": 1
}