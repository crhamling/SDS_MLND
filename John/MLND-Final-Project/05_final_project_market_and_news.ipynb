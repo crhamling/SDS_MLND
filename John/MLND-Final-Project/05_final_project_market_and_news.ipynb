{
  "cells": [
    {
      "metadata": {
        "_uuid": "8f2839f25d086af736a60e9eeb907d3b93b6e0e5",
        "_cell_guid": "b1076dfc-b9ad-4769-8c92-a6c4dae69d19",
        "trusted": true
      },
      "cell_type": "code",
      "source": "import pandas as pd\nimport numpy as np\nimport matplotlib.pyplot as plt\nfrom sklearn.preprocessing import MinMaxScaler",
      "execution_count": null,
      "outputs": []
    },
    {
      "metadata": {
        "trusted": true,
        "_uuid": "dfff383622f7178c70ca40116a4b871ba42fe4f6"
      },
      "cell_type": "code",
      "source": "news_train_df = pd.read_feather('../input/00-final-project-data-extract/news_train_df.feather')",
      "execution_count": null,
      "outputs": []
    },
    {
      "metadata": {
        "trusted": true,
        "_uuid": "765e44c4cd764e4e1ed6306c060e1b63c8c88907"
      },
      "cell_type": "code",
      "source": "news_bac = news_train_df[news_train_df['assetCodes'].str.contains('BAC.N', case=False)].drop(\n    ['sourceTimestamp', 'firstCreated', 'sourceId', 'headline', 'provider', 'headlineTag','assetCodes', 'assetName'], axis=1)",
      "execution_count": null,
      "outputs": []
    },
    {
      "metadata": {
        "trusted": true,
        "_uuid": "d729b060c7f38e2b67ff6bac44ac24882dc530e9"
      },
      "cell_type": "code",
      "source": "news_bac['marketCommentary'] = news_bac['marketCommentary'].astype(np.int8)\nscaler = MinMaxScaler(feature_range=(0,1))\nnews_bac[['urgency', 'takeSequence', 'bodySize', 'companyCount', 'marketCommentary',\n          'sentenceCount', 'wordCount', \n          'firstMentionSentence', 'relevance', 'sentimentClass',\n          'sentimentNegative', 'sentimentNeutral', 'sentimentPositive',\n          'sentimentWordCount', 'noveltyCount12H', 'noveltyCount24H',\n          'noveltyCount3D', 'noveltyCount5D', 'noveltyCount7D', 'volumeCounts12H',\n          'volumeCounts24H', 'volumeCounts3D', 'volumeCounts5D',\n          'volumeCounts7D']] = scaler.fit_transform(news_bac[['urgency', 'takeSequence', 'bodySize', 'companyCount', 'marketCommentary',\n                                                              'sentenceCount', 'wordCount', \n                                                              'firstMentionSentence', 'relevance', 'sentimentClass',\n                                                              'sentimentNegative', 'sentimentNeutral', 'sentimentPositive',\n                                                              'sentimentWordCount', 'noveltyCount12H', 'noveltyCount24H',\n                                                              'noveltyCount3D', 'noveltyCount5D', 'noveltyCount7D', 'volumeCounts12H',\n                                                              'volumeCounts24H', 'volumeCounts3D', 'volumeCounts5D',\n                                                              'volumeCounts7D']])",
      "execution_count": null,
      "outputs": []
    },
    {
      "metadata": {
        "trusted": true,
        "_uuid": "c661da1a51ae0eb79d373cea03383cb706a51e93"
      },
      "cell_type": "code",
      "source": "def print_remaining(lbl, cnt):\n    print('{} selected all but {} news record(s)'.format(lbl, cnt))\n    \nprint_remaining('assetCodes', (news_train_df['assetCodes'].str.contains('BAC.N')!=True).sum())\n\nsubjects_bac  = news_bac['subjects'].str.extract(r'\\'(?P<val>[A-Z]+)\\'')['val'].unique()\naudiences_bac = news_bac['audiences'].str.extract(r'\\'(?P<val>[A-Z]+)\\'')['val'].unique()\n\nprint_remaining('subjects',  (news_train_df['subjects'].str.contains('|'.join(subjects_bac), case=False, regex=True)!=True).sum())\nprint_remaining('audiences', (news_train_df['audiences'].str.contains('|'.join(audiences_bac), case=False, regex=True)!=True).sum())\n\ndel(news_train_df)",
      "execution_count": null,
      "outputs": []
    },
    {
      "metadata": {
        "trusted": true,
        "_uuid": "9c05de3482dbc4008566956eb57a049449177153"
      },
      "cell_type": "code",
      "source": "news_bac.drop(['subjects', 'audiences'], axis=1, inplace=True)",
      "execution_count": null,
      "outputs": []
    },
    {
      "metadata": {
        "trusted": true,
        "_uuid": "b0d13756d0bfe9b482f6b0f87c102eaec4ae555d"
      },
      "cell_type": "code",
      "source": "news_bac = news_bac.resample('1D', on='time').mean().dropna(how='all').astype(np.float32).reset_index()",
      "execution_count": null,
      "outputs": []
    },
    {
      "metadata": {
        "_cell_guid": "79c7e3d0-c299-4dcb-8224-4455121ee9b0",
        "_uuid": "d629ff2d2480ee46fbb7e2d37f6b5fab8052498a",
        "trusted": true
      },
      "cell_type": "code",
      "source": "bac = pd.read_feather('../input/02-final-project-labels/bac_market_data.feather')\nbac = bac.bfill()",
      "execution_count": null,
      "outputs": []
    },
    {
      "metadata": {
        "trusted": true,
        "_uuid": "f442820f5a80a28b2873621a99039983f3bc2f97"
      },
      "cell_type": "code",
      "source": "scaler = MinMaxScaler(feature_range=(0,1))\nbac[['volume', 'close', 'open',\n     'returnsClosePrevRaw1', 'returnsOpenPrevRaw1',\n     'returnsClosePrevMktres1', 'returnsOpenPrevMktres1',\n     'returnsClosePrevRaw10', 'returnsOpenPrevRaw10',\n     'returnsClosePrevMktres10', 'returnsOpenPrevMktres10',\n     'returnsOpenNextMktres10']] = scaler.fit_transform(bac[['volume', 'close', 'open',\n                                                             'returnsClosePrevRaw1', 'returnsOpenPrevRaw1',\n                                                             'returnsClosePrevMktres1', 'returnsOpenPrevMktres1',\n                                                             'returnsClosePrevRaw10', 'returnsOpenPrevRaw10',\n                                                             'returnsClosePrevMktres10', 'returnsOpenPrevMktres10',\n                                                             'returnsOpenNextMktres10']])",
      "execution_count": null,
      "outputs": []
    },
    {
      "metadata": {
        "trusted": true,
        "_uuid": "62c3a1a579ce2c436f98031fda01134ed1d2da6b"
      },
      "cell_type": "code",
      "source": "market_and_news_bac = pd.merge(bac, news_bac, how='left', on='time').ffill()",
      "execution_count": null,
      "outputs": []
    },
    {
      "metadata": {
        "trusted": true,
        "_uuid": "ea7a50e9cd725d0c68e9d4e0c722a2b81396232b"
      },
      "cell_type": "code",
      "source": "trn = market_and_news_bac[market_and_news_bac['time'].dt.year<2016]\ntst = market_and_news_bac[market_and_news_bac['time'].dt.year==2016]",
      "execution_count": null,
      "outputs": []
    },
    {
      "metadata": {
        "trusted": true,
        "_uuid": "551f8ee4c28b5cacdf581c817aa7d4efeca23f29"
      },
      "cell_type": "code",
      "source": "X_cols = [\n    'volume', 'close', 'open',\n    'returnsClosePrevRaw1', 'returnsOpenPrevRaw1',\n    'returnsClosePrevMktres1', 'returnsOpenPrevMktres1',\n    'returnsClosePrevRaw10', 'returnsOpenPrevRaw10',\n    'returnsClosePrevMktres10', 'returnsOpenPrevMktres10',\n    'returnsOpenNextMktres10', 'urgency', 'takeSequence',\n    'bodySize', 'companyCount', 'marketCommentary', 'sentenceCount',\n    'wordCount', 'firstMentionSentence', 'relevance', 'sentimentClass',\n    'sentimentNegative', 'sentimentNeutral', 'sentimentPositive',\n    'sentimentWordCount', 'noveltyCount12H', 'noveltyCount24H',\n    'noveltyCount3D', 'noveltyCount5D', 'noveltyCount7D', 'volumeCounts12H',\n    'volumeCounts24H', 'volumeCounts3D', 'volumeCounts5D',\n    'volumeCounts7D']\ny_cols = ['y']",
      "execution_count": null,
      "outputs": []
    },
    {
      "metadata": {
        "trusted": true,
        "_uuid": "1e6e603724d4d4a2645d56016eefaffbd3aef26e"
      },
      "cell_type": "code",
      "source": "trn_X = trn[X_cols]\ntrn_y = trn[y_cols]\n\ntst_X = tst[X_cols]\ntst_y = tst[y_cols]",
      "execution_count": null,
      "outputs": []
    },
    {
      "metadata": {
        "trusted": true,
        "_uuid": "b291e610ca1318a66856765bbe5a14af1647333c"
      },
      "cell_type": "code",
      "source": "from keras.layers import Input, Dense, Activation, Dropout\nfrom keras.layers.recurrent import LSTM\nfrom keras.models import Model\nimport time #helper libraries",
      "execution_count": null,
      "outputs": []
    },
    {
      "metadata": {
        "trusted": true,
        "_uuid": "6bcadc2f081ce59b17fbe8180cca03fe3f2d31f2"
      },
      "cell_type": "code",
      "source": "def df_to_3d(df):\n    vals = df.values\n    return vals.reshape(vals.shape[0], 1, vals.shape[1])",
      "execution_count": null,
      "outputs": []
    },
    {
      "metadata": {
        "trusted": true,
        "_uuid": "ec5f8f8e4313de97dac9a2be1408105657096ee8"
      },
      "cell_type": "code",
      "source": "inputs = Input(shape=(1, trn_X.shape[1],))\n\nx = LSTM(50, activation='relu', return_sequences=True)(inputs)\nx = Dropout(0.2)(x)\nx = LSTM(100, activation='relu')(x)\nx = Dropout(0.2)(x)\n\npredictions = Dense(1, activation='tanh')(x)\n\nstart = time.time()\nmodel = Model(inputs=inputs, outputs=predictions)\nmodel.compile(loss='mse', optimizer='rmsprop')\nprint ('compilation time : ', time.time() - start)",
      "execution_count": null,
      "outputs": []
    },
    {
      "metadata": {
        "trusted": true,
        "_uuid": "e2ae9b87955084a639205fac92fb4b05f3140811"
      },
      "cell_type": "code",
      "source": "model.fit(\n    df_to_3d(trn_X), trn_y,\n    batch_size=64, epochs=30,\n    validation_data=(df_to_3d(tst_X), tst_y))",
      "execution_count": null,
      "outputs": []
    },
    {
      "metadata": {
        "trusted": true,
        "_uuid": "359018aeac7949a6a1af06d762cb7594d7f5368a"
      },
      "cell_type": "code",
      "source": "preds = model.predict(\n    df_to_3d(pd.concat([trn_X, tst_X]))\n)",
      "execution_count": null,
      "outputs": []
    },
    {
      "metadata": {
        "trusted": true,
        "_uuid": "807dd18a4a50c242b54989046a442598df7539e8"
      },
      "cell_type": "code",
      "source": "eval_model = pd.DataFrame({'date': bac['time'].dt.date,\n                           'X': preds.flatten(),\n                           'y': bac['y']})",
      "execution_count": null,
      "outputs": []
    },
    {
      "metadata": {
        "trusted": true,
        "_uuid": "f1f7b1f86aa3a4b0aa8222bf06d2d31223d01f50"
      },
      "cell_type": "code",
      "source": "def score_model(X, y):\n    adj_X = np.array(X) + 1\n    adj_y = np.array(y) + 1\n    relative_per_diffs = []\n    for val_X, val_y in zip(adj_X, adj_y):\n        # calculate relative percent difference\n        relative_per_diffs.append( (val_X - val_y) / (np.abs(val_X) + np.abs(val_y)) )\n        #print('{:>8.3f} <-> {:>8.3f} = {:>8.3f}'.format(val_X, val_y, relative_per_diffs[-1]))\n    # adjust relative percent differnces scale from [-2, 2] to [0, 1]\n    # higher scores closer to 1 being more accurate\n    relative_per_diffs = 1 - ((np.array(relative_per_diffs) + 1) / 2)\n    return list(relative_per_diffs)",
      "execution_count": null,
      "outputs": []
    },
    {
      "metadata": {
        "trusted": true,
        "_uuid": "3bc393f7c8759b1403cd16d976878cc6037c0d90"
      },
      "cell_type": "code",
      "source": "eval_model['scores'] = score_model(eval_model['X'].values, eval_model['y'].values)",
      "execution_count": null,
      "outputs": []
    },
    {
      "metadata": {
        "trusted": true,
        "_uuid": "a5ff805e6e720e49ee10b22650431eaa0e7246b3"
      },
      "cell_type": "code",
      "source": "def plot_vs_time(data_frame, column, calculation='mean', span=10):\n    if calculation == 'mean':\n        group_temp = data_frame.groupby('date')[column].mean().reset_index()\n    if calculation == 'count':\n        group_temp = data_frame.groupby('date')[column].count().reset_index()\n    if calculation == 'nunique':\n        group_temp = data_frame.groupby('date')[column].nunique().reset_index()\n    group_temp = group_temp.ewm(span=span).mean()\n    fig = plt.figure(figsize=(10,3))\n    plt.plot(group_temp['date'], group_temp[column])\n    plt.xlabel('Time')\n    plt.ylabel(column)\n    plt.ylim((0,1))\n    plt.title('%s versus time' %column)",
      "execution_count": null,
      "outputs": []
    },
    {
      "metadata": {
        "trusted": true,
        "_uuid": "61dcf396c0691990edc1324d685c8205550d33e3"
      },
      "cell_type": "code",
      "source": "plot_vs_time(eval_model, 'scores')",
      "execution_count": null,
      "outputs": []
    },
    {
      "metadata": {
        "trusted": true,
        "_uuid": "06e002bea4088e8dcbb7bc2db24c48c4bae005ec"
      },
      "cell_type": "code",
      "source": "print('Eval model score is {:.5f}'.format(eval_model['scores'].mean()))",
      "execution_count": null,
      "outputs": []
    },
    {
      "metadata": {
        "trusted": true,
        "_uuid": "91a20180dd79fdb0a39e738dd8c80a230c2c0f1a"
      },
      "cell_type": "code",
      "source": "",
      "execution_count": null,
      "outputs": []
    }
  ],
  "metadata": {
    "kernelspec": {
      "display_name": "Python 3",
      "language": "python",
      "name": "python3"
    },
    "language_info": {
      "name": "python",
      "version": "3.6.6",
      "mimetype": "text/x-python",
      "codemirror_mode": {
        "name": "ipython",
        "version": 3
      },
      "pygments_lexer": "ipython3",
      "nbconvert_exporter": "python",
      "file_extension": ".py"
    }
  },
  "nbformat": 4,
  "nbformat_minor": 1
}